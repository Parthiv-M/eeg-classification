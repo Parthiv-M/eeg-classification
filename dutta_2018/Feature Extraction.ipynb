{
 "cells": [
  {
   "cell_type": "markdown",
   "id": "e44d7de7",
   "metadata": {},
   "source": [
    "# Feature Extraction\n",
    "\n",
    "This notebook is an attempt to follow the steps outlined to extract features from the Keirn dataset as described by *Suman Duttaa, Mandeep Singha, and Amod Kumar* in [this paper](https://www.sciencedirect.com/science/article/pii/S1746809418300478?casa_token=O4FQDvOwuqEAAAAA:0KLqq4okPDih95kJeWcOxLSZawKwH9OgsLjCxOS2joy_1cR5T28s6M0IVV17-DslhU9C-yWWDb0). Suitable assumptions were made wherever sufficient information about the feature extraction process was not given in the paper. Further, these extracted features were passed into an LSSVM model as given in [this notebook](https://github.com/Parthiv-M/eeg-classification/blob/main/dutta_2018/LSSVM.ipynb)."
   ]
  },
  {
   "cell_type": "code",
   "execution_count": null,
   "id": "ccd02e21",
   "metadata": {},
   "outputs": [],
   "source": [
    "import pandas as pd\n",
    "from PyEMD import EMD\n",
    "from statsmodels.regression.linear_model import burg\n",
    "from statsmodels.tsa.stattools import levinson_durbin"
   ]
  },
  {
   "cell_type": "code",
   "execution_count": null,
   "id": "c2f924d5",
   "metadata": {},
   "outputs": [],
   "source": [
    "def read_dataset(file_name):\n",
    "    \"\"\"\n",
    "    Method to read the csv dataset\n",
    "    ...\n",
    "    Parameters\n",
    "    ----------\n",
    "    file_name : str\n",
    "        Name of the file to be read\n",
    "    \"\"\"\n",
    "    eeg_csv = pd.read_csv(file_name)\n",
    "    eeg_csv = eeg_csv[(eeg_csv['subject'] == 1) | (eeg_csv['subject'] == 3) | (eeg_csv['subject'] == 5) ]\n",
    "    eeg_csv = eeg_csv[(eeg_csv['task'] == 'baseline') | (eeg_csv['task'] == 'letter-composing')]\n",
    "    eeg_csv =  eeg_csv.loc[:, ~eeg_csv.columns.isin(['subject', 'trial','Unnamed: 0'])]\n",
    "    return eeg_csv"
   ]
  },
  {
   "cell_type": "code",
   "execution_count": null,
   "id": "cbc3e932",
   "metadata": {},
   "outputs": [],
   "source": [
    "def calculate_row_imfs(eeg_row, task):\n",
    "    \"\"\"\n",
    "    Method to calculate the IMF for the given signal\n",
    "    ...\n",
    "    Parameters\n",
    "    ----------\n",
    "    eeg_row : array\n",
    "        The initial signal to compute the IMF\n",
    "    \"\"\"\n",
    "    emd = EMD()\n",
    "    emd.FIXE = 10\n",
    "    imfs = emd.emd(eeg_row)\n",
    "    if len(imfs) >= 9:\n",
    "        if task == \"baseline\" or task == \"letter-composing\":\n",
    "            return imfs[8]\n",
    "        elif task == \"multiplication\":\n",
    "            return imfs[7]"
   ]
  },
  {
   "cell_type": "code",
   "execution_count": null,
   "id": "a54b424a",
   "metadata": {},
   "outputs": [],
   "source": [
    "def find_levinson_coeffs(imf):\n",
    "    \"\"\"\n",
    "    Method to find levinson coefficients for the input\n",
    "    ...\n",
    "    Parameters\n",
    "    ----------\n",
    "        imf : the input for the levinson computation\n",
    "    \"\"\"\n",
    "    print(imf)\n",
    "    if imf is not None:\n",
    "        coeffs = levinson_durbin(imf,6)\n",
    "        return coeffs[1]"
   ]
  },
  {
   "cell_type": "code",
   "execution_count": null,
   "id": "78300d69",
   "metadata": {},
   "outputs": [],
   "source": [
    "def find_burgs_coeffs(imf):\n",
    "    \"\"\"\n",
    "    Method to find Burgs coefficients for the input\n",
    "    ...\n",
    "    Parameters\n",
    "    ----------\n",
    "        imf : the input for the burgs computation\n",
    "    \"\"\"\n",
    "    return burg(imf, order=6)[0]"
   ]
  },
  {
   "cell_type": "code",
   "execution_count": null,
   "id": "71d3d26f",
   "metadata": {},
   "outputs": [],
   "source": [
    "def export_to_csv(data, output_file_name):\n",
    "    \"\"\"\n",
    "    Method to export data to csv format\n",
    "    ...\n",
    "    Parameters\n",
    "    ----------\n",
    "    data : dict\n",
    "        Dictionary containing key-value pairs, with the values being equal length arrays\n",
    "    output_file_name : str\n",
    "        The file name of the output file\n",
    "    \"\"\"\n",
    "    # create a dataframe\n",
    "    dataframe = pd.DataFrame(data)\n",
    "    # convert the dataframe to csv\n",
    "    dataframe.to_csv(output_file_name + '.csv', encoding='utf-8')\n",
    "    print(output_file_name + '.csv created')"
   ]
  },
  {
   "cell_type": "code",
   "execution_count": null,
   "id": "563f902b",
   "metadata": {},
   "outputs": [],
   "source": [
    "def main():\n",
    "    \"\"\"\n",
    "    The driver function for the code\n",
    "    \"\"\"\n",
    "    data_csv = read_dataset('eegdataset.csv')\n",
    "    \n",
    "    imfs = []\n",
    "    data_dict = {\n",
    "        'task': []\n",
    "    }\n",
    "\n",
    "    # for every row in the dataset, calculate IMF\n",
    "    for i in range(len(data_csv)):\n",
    "        eeg_row = data_csv.iloc[i:i+1,1:].to_numpy()\n",
    "        task = data_csv.iloc[i:i+1,:1].to_numpy()[0][0]\n",
    "        row_imf = calculate_row_imfs(eeg_row[0], task)\n",
    "        imfs.append(row_imf)\n",
    "    \n",
    "    # for every IMF, calculate the levvinson coefficient\n",
    "    for idx, imf in enumerate(imfs):\n",
    "        task = data_csv.iloc[idx:idx+1,:1].to_numpy()[0][0]\n",
    "        lev_coeffs = find_levinson_coeffs(imf)\n",
    "        if lev_coeffs is not None:\n",
    "            data_dict['task'].append(task)\n",
    "            # create a csv of the levinson coefficients\n",
    "            for ind, coeff in enumerate(lev_coeffs):\n",
    "                if ind+1 in data_dict.keys():\n",
    "                    data_dict[ind+1].append(coeff)\n",
    "                else:\n",
    "                    data_dict[ind+1] = [coeff]\n",
    "\n",
    "    # export to csv for better usability\n",
    "    export_to_csv(data_dict, 'letter_base')"
   ]
  },
  {
   "cell_type": "code",
   "execution_count": null,
   "id": "87eadd8a",
   "metadata": {},
   "outputs": [],
   "source": [
    "if __name__ == \"__main__\":\n",
    "    main()"
   ]
  }
 ],
 "metadata": {
  "kernelspec": {
   "display_name": "Python 3",
   "language": "python",
   "name": "python3"
  },
  "language_info": {
   "codemirror_mode": {
    "name": "ipython",
    "version": 3
   },
   "file_extension": ".py",
   "mimetype": "text/x-python",
   "name": "python",
   "nbconvert_exporter": "python",
   "pygments_lexer": "ipython3",
   "version": "3.6.9"
  }
 },
 "nbformat": 4,
 "nbformat_minor": 5
}
